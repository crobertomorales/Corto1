{
 "cells": [
  {
   "cell_type": "markdown",
   "id": "enormous-modern",
   "metadata": {},
   "source": [
    "# Corto 1"
   ]
  },
  {
   "cell_type": "markdown",
   "id": "empty-advisory",
   "metadata": {},
   "source": [
    "## 20180067 Carlos Morales"
   ]
  },
  {
   "cell_type": "code",
   "execution_count": 326,
   "id": "breathing-civilian",
   "metadata": {},
   "outputs": [],
   "source": [
    "import pandas as pd\n",
    "import numpy as np\n",
    "import sklearn\n",
    "from sklearn import model_selection\n",
    "import matplotlib.pyplot as plt"
   ]
  },
  {
   "cell_type": "code",
   "execution_count": 327,
   "id": "synthetic-youth",
   "metadata": {},
   "outputs": [
    {
     "data": {
      "text/html": [
       "<div>\n",
       "<style scoped>\n",
       "    .dataframe tbody tr th:only-of-type {\n",
       "        vertical-align: middle;\n",
       "    }\n",
       "\n",
       "    .dataframe tbody tr th {\n",
       "        vertical-align: top;\n",
       "    }\n",
       "\n",
       "    .dataframe thead th {\n",
       "        text-align: right;\n",
       "    }\n",
       "</style>\n",
       "<table border=\"1\" class=\"dataframe\">\n",
       "  <thead>\n",
       "    <tr style=\"text-align: right;\">\n",
       "      <th></th>\n",
       "      <th>0</th>\n",
       "      <th>1</th>\n",
       "      <th>2</th>\n",
       "    </tr>\n",
       "  </thead>\n",
       "  <tbody>\n",
       "    <tr>\n",
       "      <th>0</th>\n",
       "      <td>0.931719</td>\n",
       "      <td>50.942832</td>\n",
       "      <td>2596.040230</td>\n",
       "    </tr>\n",
       "    <tr>\n",
       "      <th>1</th>\n",
       "      <td>0.796997</td>\n",
       "      <td>50.312938</td>\n",
       "      <td>2532.026902</td>\n",
       "    </tr>\n",
       "    <tr>\n",
       "      <th>2</th>\n",
       "      <td>1.115603</td>\n",
       "      <td>50.156194</td>\n",
       "      <td>2516.888332</td>\n",
       "    </tr>\n",
       "    <tr>\n",
       "      <th>3</th>\n",
       "      <td>1.064629</td>\n",
       "      <td>50.774814</td>\n",
       "      <td>2579.215190</td>\n",
       "    </tr>\n",
       "    <tr>\n",
       "      <th>4</th>\n",
       "      <td>1.796804</td>\n",
       "      <td>50.055668</td>\n",
       "      <td>2508.798424</td>\n",
       "    </tr>\n",
       "  </tbody>\n",
       "</table>\n",
       "</div>"
      ],
      "text/plain": [
       "          0          1            2\n",
       "0  0.931719  50.942832  2596.040230\n",
       "1  0.796997  50.312938  2532.026902\n",
       "2  1.115603  50.156194  2516.888332\n",
       "3  1.064629  50.774814  2579.215190\n",
       "4  1.796804  50.055668  2508.798424"
      ]
     },
     "execution_count": 327,
     "metadata": {},
     "output_type": "execute_result"
    }
   ],
   "source": [
    "data = pd.read_csv('dat.csv',header = None)\n",
    "data.head(5)"
   ]
  },
  {
   "cell_type": "code",
   "execution_count": 328,
   "id": "cultural-provider",
   "metadata": {},
   "outputs": [
    {
     "name": "stdout",
     "output_type": "stream",
     "text": [
      "(160000, 1)\n",
      "(160000, 3)\n"
     ]
    }
   ],
   "source": [
    "data = data.assign(v_1 = 1)\n",
    "y = data[[2]].to_numpy()\n",
    "X = data[['v_1',0,1]].to_numpy()\n",
    "print(y.shape)\n",
    "print(X.shape)"
   ]
  },
  {
   "cell_type": "code",
   "execution_count": 329,
   "id": "satisfied-animal",
   "metadata": {},
   "outputs": [
    {
     "name": "stdout",
     "output_type": "stream",
     "text": [
      "(96000, 3)\n",
      "(32000, 3)\n",
      "(32000, 3)\n",
      "(96000, 1)\n",
      "(32000, 1)\n",
      "(32000, 1)\n"
     ]
    }
   ],
   "source": [
    "X_train, X_test, y_train, y_test = sklearn.model_selection.train_test_split(X, y, test_size=0.2, random_state=1)\n",
    "X_train, X_val, y_train, y_val = sklearn.model_selection.train_test_split(X_train, y_train, test_size=0.25, random_state=1)\n",
    "print(X_train.shape)\n",
    "print(X_test.shape)\n",
    "print(X_val.shape)\n",
    "print(y_train.shape)\n",
    "print(y_test.shape)\n",
    "print(y_val.shape)"
   ]
  },
  {
   "cell_type": "code",
   "execution_count": 330,
   "id": "developed-fellowship",
   "metadata": {},
   "outputs": [],
   "source": [
    "def linear_cost(X, y, theta): \n",
    "    h = X @ theta\n",
    "    return ((y-h)**2).sum() / (2 * len(X))\n",
    "\n",
    "def linear_cost_gradient(X, y, theta): \n",
    "    h = X @ theta\n",
    "    return (X.T @ (h-y))/ len(X)"
   ]
  },
  {
   "cell_type": "code",
   "execution_count": 331,
   "id": "incomplete-number",
   "metadata": {},
   "outputs": [],
   "source": [
    "m, n = X_train.shape"
   ]
  },
  {
   "cell_type": "code",
   "execution_count": 332,
   "id": "virgin-messenger",
   "metadata": {},
   "outputs": [
    {
     "name": "stdout",
     "output_type": "stream",
     "text": [
      "(3, 1)\n"
     ]
    }
   ],
   "source": [
    "theta_0 = np.random.rand(n,1)\n",
    "print(theta_0.shape)"
   ]
  },
  {
   "cell_type": "code",
   "execution_count": 333,
   "id": "confident-glucose",
   "metadata": {},
   "outputs": [],
   "source": [
    "def gradient_descent(\n",
    "X,y,theta_0,linear_cost,linear_cost_gradient,\n",
    "    learning_rate = 0.000000001, threshold = 0.00001, max_iter=10000):\n",
    "    thetas = theta_0\n",
    "    iteration = 0 \n",
    "    costs = []\n",
    "    \n",
    "    while np.linalg.norm(linear_cost_gradient(X,y,thetas)) > threshold and iteration < max_iter:\n",
    "        iteration += 1 \n",
    "        thetas = thetas - (learning_rate * linear_cost_gradient(X,y,thetas))\n",
    "        costs.append(linear_cost(X,y,thetas))\n",
    "        \n",
    "    return thetas, costs"
   ]
  },
  {
   "cell_type": "markdown",
   "id": "generic-beast",
   "metadata": {},
   "source": [
    "## Grado 1"
   ]
  },
  {
   "cell_type": "code",
   "execution_count": 334,
   "id": "fatal-provincial",
   "metadata": {},
   "outputs": [],
   "source": [
    "thetas, costs = gradient_descent(X_train,y_train,theta_0,linear_cost,linear_cost_gradient)"
   ]
  },
  {
   "cell_type": "code",
   "execution_count": 335,
   "id": "creative-loading",
   "metadata": {},
   "outputs": [
    {
     "data": {
      "text/plain": [
       "[<matplotlib.lines.Line2D at 0x28e45d2b070>]"
      ]
     },
     "execution_count": 335,
     "metadata": {},
     "output_type": "execute_result"
    },
    {
     "data": {
      "image/png": "[encoded data removed]",
      "text/plain": [
       "<Figure size 432x288 with 1 Axes>"
      ]
     },
     "metadata": {
      "needs_background": "light"
     },
     "output_type": "display_data"
    }
   ],
   "source": [
    "plt.plot(costs)"
   ]
  },
  {
   "cell_type": "markdown",
   "id": "varying-worry",
   "metadata": {},
   "source": [
    "### test"
   ]
  },
  {
   "cell_type": "code",
   "execution_count": 336,
   "id": "european-cleveland",
   "metadata": {},
   "outputs": [],
   "source": [
    "thetas, costs = gradient_descent(X_test,y_test,theta_0,linear_cost,linear_cost_gradient)"
   ]
  },
  {
   "cell_type": "code",
   "execution_count": 337,
   "id": "short-naples",
   "metadata": {},
   "outputs": [
    {
     "data": {
      "text/plain": [
       "[<matplotlib.lines.Line2D at 0x28e45d8a790>]"
      ]
     },
     "execution_count": 337,
     "metadata": {},
     "output_type": "execute_result"
    },
    {
     "data": {
      "image/png": "[encoded data removed]",
      "text/plain": [
       "<Figure size 432x288 with 1 Axes>"
      ]
     },
     "metadata": {
      "needs_background": "light"
     },
     "output_type": "display_data"
    }
   ],
   "source": [
    "plt.plot(costs)"
   ]
  },
  {
   "cell_type": "markdown",
   "id": "religious-contemporary",
   "metadata": {},
   "source": [
    "### validation"
   ]
  },
  {
   "cell_type": "code",
   "execution_count": 338,
   "id": "inappropriate-genesis",
   "metadata": {},
   "outputs": [],
   "source": [
    "thetas, costs = gradient_descent(X_val,y_val,theta_0,linear_cost,linear_cost_gradient)"
   ]
  },
  {
   "cell_type": "code",
   "execution_count": 339,
   "id": "oriented-poland",
   "metadata": {},
   "outputs": [
    {
     "data": {
      "text/plain": [
       "[<matplotlib.lines.Line2D at 0x28e45de8ca0>]"
      ]
     },
     "execution_count": 339,
     "metadata": {},
     "output_type": "execute_result"
    },
    {
     "data": {
      "image/png": "[encoded data removed]",
      "text/plain": [
       "<Figure size 432x288 with 1 Axes>"
      ]
     },
     "metadata": {
      "needs_background": "light"
     },
     "output_type": "display_data"
    }
   ],
   "source": [
    "plt.plot(costs)"
   ]
  },
  {
   "cell_type": "markdown",
   "id": "ranking-feeling",
   "metadata": {},
   "source": [
    "Como se observa en las gráficas, utilizando un polinomio grado 1 el modelo muestra un descenso, pero con 10,000 iteraciones no parece alcanzar convergencia esperada. "
   ]
  },
  {
   "cell_type": "markdown",
   "id": "horizontal-swing",
   "metadata": {
    "tags": []
   },
   "source": [
    "## Grado 2"
   ]
  },
  {
   "cell_type": "code",
   "execution_count": 340,
   "id": "hydraulic-magnet",
   "metadata": {},
   "outputs": [
    {
     "data": {
      "text/html": [
       "<div>\n",
       "<style scoped>\n",
       "    .dataframe tbody tr th:only-of-type {\n",
       "        vertical-align: middle;\n",
       "    }\n",
       "\n",
       "    .dataframe tbody tr th {\n",
       "        vertical-align: top;\n",
       "    }\n",
       "\n",
       "    .dataframe thead th {\n",
       "        text-align: right;\n",
       "    }\n",
       "</style>\n",
       "<table border=\"1\" class=\"dataframe\">\n",
       "  <thead>\n",
       "    <tr style=\"text-align: right;\">\n",
       "      <th></th>\n",
       "      <th>0</th>\n",
       "      <th>1</th>\n",
       "      <th>2</th>\n",
       "      <th>v_1</th>\n",
       "      <th>4</th>\n",
       "      <th>5</th>\n",
       "    </tr>\n",
       "  </thead>\n",
       "  <tbody>\n",
       "    <tr>\n",
       "      <th>0</th>\n",
       "      <td>0.931719</td>\n",
       "      <td>50.942832</td>\n",
       "      <td>2596.040230</td>\n",
       "      <td>1</td>\n",
       "      <td>0.868100</td>\n",
       "      <td>2595.172130</td>\n",
       "    </tr>\n",
       "    <tr>\n",
       "      <th>1</th>\n",
       "      <td>0.796997</td>\n",
       "      <td>50.312938</td>\n",
       "      <td>2532.026902</td>\n",
       "      <td>1</td>\n",
       "      <td>0.635205</td>\n",
       "      <td>2531.391697</td>\n",
       "    </tr>\n",
       "    <tr>\n",
       "      <th>2</th>\n",
       "      <td>1.115603</td>\n",
       "      <td>50.156194</td>\n",
       "      <td>2516.888332</td>\n",
       "      <td>1</td>\n",
       "      <td>1.244571</td>\n",
       "      <td>2515.643761</td>\n",
       "    </tr>\n",
       "    <tr>\n",
       "      <th>3</th>\n",
       "      <td>1.064629</td>\n",
       "      <td>50.774814</td>\n",
       "      <td>2579.215190</td>\n",
       "      <td>1</td>\n",
       "      <td>1.133435</td>\n",
       "      <td>2578.081755</td>\n",
       "    </tr>\n",
       "    <tr>\n",
       "      <th>4</th>\n",
       "      <td>1.796804</td>\n",
       "      <td>50.055668</td>\n",
       "      <td>2508.798424</td>\n",
       "      <td>1</td>\n",
       "      <td>3.228504</td>\n",
       "      <td>2505.569920</td>\n",
       "    </tr>\n",
       "    <tr>\n",
       "      <th>...</th>\n",
       "      <td>...</td>\n",
       "      <td>...</td>\n",
       "      <td>...</td>\n",
       "      <td>...</td>\n",
       "      <td>...</td>\n",
       "      <td>...</td>\n",
       "    </tr>\n",
       "    <tr>\n",
       "      <th>159995</th>\n",
       "      <td>99.500647</td>\n",
       "      <td>200.190256</td>\n",
       "      <td>49976.517321</td>\n",
       "      <td>1</td>\n",
       "      <td>9900.378766</td>\n",
       "      <td>40076.138555</td>\n",
       "    </tr>\n",
       "    <tr>\n",
       "      <th>159996</th>\n",
       "      <td>99.720694</td>\n",
       "      <td>200.278968</td>\n",
       "      <td>50055.881792</td>\n",
       "      <td>1</td>\n",
       "      <td>9944.216821</td>\n",
       "      <td>40111.664971</td>\n",
       "    </tr>\n",
       "    <tr>\n",
       "      <th>159997</th>\n",
       "      <td>99.927517</td>\n",
       "      <td>200.740081</td>\n",
       "      <td>50282.088778</td>\n",
       "      <td>1</td>\n",
       "      <td>9985.508556</td>\n",
       "      <td>40296.580222</td>\n",
       "    </tr>\n",
       "    <tr>\n",
       "      <th>159998</th>\n",
       "      <td>100.119925</td>\n",
       "      <td>200.831178</td>\n",
       "      <td>50357.161540</td>\n",
       "      <td>1</td>\n",
       "      <td>10023.999387</td>\n",
       "      <td>40333.162153</td>\n",
       "    </tr>\n",
       "    <tr>\n",
       "      <th>159999</th>\n",
       "      <td>100.062230</td>\n",
       "      <td>200.797175</td>\n",
       "      <td>50331.955282</td>\n",
       "      <td>1</td>\n",
       "      <td>10012.449946</td>\n",
       "      <td>40319.505336</td>\n",
       "    </tr>\n",
       "  </tbody>\n",
       "</table>\n",
       "<p>160000 rows × 6 columns</p>\n",
       "</div>"
      ],
      "text/plain": [
       "                 0           1             2  v_1             4             5\n",
       "0         0.931719   50.942832   2596.040230    1      0.868100   2595.172130\n",
       "1         0.796997   50.312938   2532.026902    1      0.635205   2531.391697\n",
       "2         1.115603   50.156194   2516.888332    1      1.244571   2515.643761\n",
       "3         1.064629   50.774814   2579.215190    1      1.133435   2578.081755\n",
       "4         1.796804   50.055668   2508.798424    1      3.228504   2505.569920\n",
       "...            ...         ...           ...  ...           ...           ...\n",
       "159995   99.500647  200.190256  49976.517321    1   9900.378766  40076.138555\n",
       "159996   99.720694  200.278968  50055.881792    1   9944.216821  40111.664971\n",
       "159997   99.927517  200.740081  50282.088778    1   9985.508556  40296.580222\n",
       "159998  100.119925  200.831178  50357.161540    1  10023.999387  40333.162153\n",
       "159999  100.062230  200.797175  50331.955282    1  10012.449946  40319.505336\n",
       "\n",
       "[160000 rows x 6 columns]"
      ]
     },
     "execution_count": 340,
     "metadata": {},
     "output_type": "execute_result"
    }
   ],
   "source": [
    "data[4] = data[0] ** 2\n",
    "data[5] = data[1] ** 2\n",
    "data"
   ]
  },
  {
   "cell_type": "code",
   "execution_count": 341,
   "id": "tamil-truck",
   "metadata": {},
   "outputs": [
    {
     "name": "stdout",
     "output_type": "stream",
     "text": [
      "(160000, 1)\n",
      "(160000, 5)\n"
     ]
    }
   ],
   "source": [
    "data = data.assign(v_1 = 1)\n",
    "y = data[[2]].to_numpy()\n",
    "X = data[['v_1',0,1,4,5]].to_numpy()\n",
    "print(y.shape)\n",
    "print(X.shape)"
   ]
  },
  {
   "cell_type": "code",
   "execution_count": 342,
   "id": "premier-dress",
   "metadata": {},
   "outputs": [
    {
     "name": "stdout",
     "output_type": "stream",
     "text": [
      "(96000, 5)\n",
      "(32000, 5)\n",
      "(32000, 5)\n",
      "(96000, 1)\n",
      "(32000, 1)\n",
      "(32000, 1)\n"
     ]
    }
   ],
   "source": [
    "X_train, X_test, y_train, y_test = sklearn.model_selection.train_test_split(X, y, test_size=0.2, random_state=1)\n",
    "X_train, X_val, y_train, y_val = sklearn.model_selection.train_test_split(X_train, y_train, test_size=0.25, random_state=1)\n",
    "print(X_train.shape)\n",
    "print(X_test.shape)\n",
    "print(X_val.shape)\n",
    "print(y_train.shape)\n",
    "print(y_test.shape)\n",
    "print(y_val.shape)"
   ]
  },
  {
   "cell_type": "code",
   "execution_count": 343,
   "id": "perfect-sigma",
   "metadata": {},
   "outputs": [],
   "source": [
    "def linear_cost(X, y, theta): \n",
    "    h = X @ theta\n",
    "    return ((y-h)**2).sum() / (2 * len(X))\n",
    "\n",
    "def linear_cost_gradient(X, y, theta): \n",
    "    h = X @ theta\n",
    "    return (X.T @ (h-y))/ len(X)"
   ]
  },
  {
   "cell_type": "code",
   "execution_count": 344,
   "id": "incoming-force",
   "metadata": {},
   "outputs": [],
   "source": [
    "m, n = X_train.shape"
   ]
  },
  {
   "cell_type": "code",
   "execution_count": 345,
   "id": "minus-course",
   "metadata": {},
   "outputs": [
    {
     "name": "stdout",
     "output_type": "stream",
     "text": [
      "(5, 1)\n"
     ]
    }
   ],
   "source": [
    "theta_0 = np.random.rand(n,1)\n",
    "print(theta_0.shape)"
   ]
  },
  {
   "cell_type": "code",
   "execution_count": 346,
   "id": "handed-amendment",
   "metadata": {},
   "outputs": [],
   "source": [
    "def gradient_descent(\n",
    "X,y,theta_0,linear_cost,linear_cost_gradient,\n",
    "    learning_rate = 0.00000000000000001, threshold = 0.000000001, max_iter=10000):\n",
    "    thetas = theta_0\n",
    "    iteration = 0 \n",
    "    costs = []\n",
    "    \n",
    "    while np.linalg.norm(linear_cost_gradient(X,y,thetas)) > threshold and iteration < max_iter:\n",
    "        iteration += 1 \n",
    "        thetas = thetas - (learning_rate * linear_cost_gradient(X,y,thetas))\n",
    "        costs.append(linear_cost(X,y,thetas))\n",
    "        \n",
    "    return thetas, costs"
   ]
  },
  {
   "cell_type": "code",
   "execution_count": 347,
   "id": "similar-trader",
   "metadata": {},
   "outputs": [],
   "source": [
    "thetas, costs = gradient_descent(X_train,y_train,theta_0,linear_cost,linear_cost_gradient)"
   ]
  },
  {
   "cell_type": "code",
   "execution_count": 348,
   "id": "correct-intelligence",
   "metadata": {},
   "outputs": [
    {
     "data": {
      "text/plain": [
       "[<matplotlib.lines.Line2D at 0x28e45dcac70>]"
      ]
     },
     "execution_count": 348,
     "metadata": {},
     "output_type": "execute_result"
    },
    {
     "data": {
      "image/png": "[encoded data removed]",
      "text/plain": [
       "<Figure size 432x288 with 1 Axes>"
      ]
     },
     "metadata": {
      "needs_background": "light"
     },
     "output_type": "display_data"
    }
   ],
   "source": [
    "plt.plot(costs)"
   ]
  },
  {
   "cell_type": "markdown",
   "id": "english-sailing",
   "metadata": {},
   "source": [
    "### test"
   ]
  },
  {
   "cell_type": "code",
   "execution_count": 349,
   "id": "great-relief",
   "metadata": {},
   "outputs": [],
   "source": [
    "thetas, costs = gradient_descent(X_test,y_test,theta_0,linear_cost,linear_cost_gradient)"
   ]
  },
  {
   "cell_type": "code",
   "execution_count": 350,
   "id": "dutch-converter",
   "metadata": {},
   "outputs": [
    {
     "data": {
      "text/plain": [
       "[<matplotlib.lines.Line2D at 0x28e47808280>]"
      ]
     },
     "execution_count": 350,
     "metadata": {},
     "output_type": "execute_result"
    },
    {
     "data": {
      "image/png": "[encoded data removed]",
      "text/plain": [
       "<Figure size 432x288 with 1 Axes>"
      ]
     },
     "metadata": {
      "needs_background": "light"
     },
     "output_type": "display_data"
    }
   ],
   "source": [
    "plt.plot(costs)"
   ]
  },
  {
   "cell_type": "markdown",
   "id": "moved-yeast",
   "metadata": {},
   "source": [
    "### validation"
   ]
  },
  {
   "cell_type": "code",
   "execution_count": 351,
   "id": "cheap-simon",
   "metadata": {},
   "outputs": [],
   "source": [
    "thetas, costs = gradient_descent(X_val,y_val,theta_0,linear_cost,linear_cost_gradient)"
   ]
  },
  {
   "cell_type": "code",
   "execution_count": 352,
   "id": "english-clinton",
   "metadata": {},
   "outputs": [
    {
     "data": {
      "text/plain": [
       "[<matplotlib.lines.Line2D at 0x28e45f51d30>]"
      ]
     },
     "execution_count": 352,
     "metadata": {},
     "output_type": "execute_result"
    },
    {
     "data": {
      "image/png": "[encoded data removed]",
      "text/plain": [
       "<Figure size 432x288 with 1 Axes>"
      ]
     },
     "metadata": {
      "needs_background": "light"
     },
     "output_type": "display_data"
    }
   ],
   "source": [
    "plt.plot(costs)"
   ]
  },
  {
   "cell_type": "markdown",
   "id": "broad-citizenship",
   "metadata": {},
   "source": [
    "Como se observa en las gráficas, utilizando un polinomio grado 2 el modelo muestra un descenso más recto que en el grado 1, lo cual refleja que estamos más lejos de la convergencia en este modelo tampoco llegamos a ver convergencia con 10,000 iteraciones.\n"
   ]
  },
  {
   "cell_type": "markdown",
   "id": "alpha-optimization",
   "metadata": {
    "tags": []
   },
   "source": [
    "## Grado 3"
   ]
  },
  {
   "cell_type": "code",
   "execution_count": 353,
   "id": "attended-aircraft",
   "metadata": {},
   "outputs": [
    {
     "data": {
      "text/html": [
       "<div>\n",
       "<style scoped>\n",
       "    .dataframe tbody tr th:only-of-type {\n",
       "        vertical-align: middle;\n",
       "    }\n",
       "\n",
       "    .dataframe tbody tr th {\n",
       "        vertical-align: top;\n",
       "    }\n",
       "\n",
       "    .dataframe thead th {\n",
       "        text-align: right;\n",
       "    }\n",
       "</style>\n",
       "<table border=\"1\" class=\"dataframe\">\n",
       "  <thead>\n",
       "    <tr style=\"text-align: right;\">\n",
       "      <th></th>\n",
       "      <th>0</th>\n",
       "      <th>1</th>\n",
       "      <th>2</th>\n",
       "      <th>v_1</th>\n",
       "      <th>4</th>\n",
       "      <th>5</th>\n",
       "      <th>6</th>\n",
       "      <th>7</th>\n",
       "    </tr>\n",
       "  </thead>\n",
       "  <tbody>\n",
       "    <tr>\n",
       "      <th>0</th>\n",
       "      <td>0.931719</td>\n",
       "      <td>50.942832</td>\n",
       "      <td>2596.040230</td>\n",
       "      <td>1</td>\n",
       "      <td>0.868100</td>\n",
       "      <td>2595.172130</td>\n",
       "      <td>8.088255e-01</td>\n",
       "      <td>1.322054e+05</td>\n",
       "    </tr>\n",
       "    <tr>\n",
       "      <th>1</th>\n",
       "      <td>0.796997</td>\n",
       "      <td>50.312938</td>\n",
       "      <td>2532.026902</td>\n",
       "      <td>1</td>\n",
       "      <td>0.635205</td>\n",
       "      <td>2531.391697</td>\n",
       "      <td>5.062565e-01</td>\n",
       "      <td>1.273618e+05</td>\n",
       "    </tr>\n",
       "    <tr>\n",
       "      <th>2</th>\n",
       "      <td>1.115603</td>\n",
       "      <td>50.156194</td>\n",
       "      <td>2516.888332</td>\n",
       "      <td>1</td>\n",
       "      <td>1.244571</td>\n",
       "      <td>2515.643761</td>\n",
       "      <td>1.388448e+00</td>\n",
       "      <td>1.261751e+05</td>\n",
       "    </tr>\n",
       "    <tr>\n",
       "      <th>3</th>\n",
       "      <td>1.064629</td>\n",
       "      <td>50.774814</td>\n",
       "      <td>2579.215190</td>\n",
       "      <td>1</td>\n",
       "      <td>1.133435</td>\n",
       "      <td>2578.081755</td>\n",
       "      <td>1.206687e+00</td>\n",
       "      <td>1.309016e+05</td>\n",
       "    </tr>\n",
       "    <tr>\n",
       "      <th>4</th>\n",
       "      <td>1.796804</td>\n",
       "      <td>50.055668</td>\n",
       "      <td>2508.798424</td>\n",
       "      <td>1</td>\n",
       "      <td>3.228504</td>\n",
       "      <td>2505.569920</td>\n",
       "      <td>5.800988e+00</td>\n",
       "      <td>1.254180e+05</td>\n",
       "    </tr>\n",
       "    <tr>\n",
       "      <th>...</th>\n",
       "      <td>...</td>\n",
       "      <td>...</td>\n",
       "      <td>...</td>\n",
       "      <td>...</td>\n",
       "      <td>...</td>\n",
       "      <td>...</td>\n",
       "      <td>...</td>\n",
       "      <td>...</td>\n",
       "    </tr>\n",
       "    <tr>\n",
       "      <th>159995</th>\n",
       "      <td>99.500647</td>\n",
       "      <td>200.190256</td>\n",
       "      <td>49976.517321</td>\n",
       "      <td>1</td>\n",
       "      <td>9900.378766</td>\n",
       "      <td>40076.138555</td>\n",
       "      <td>9.850941e+05</td>\n",
       "      <td>8.022852e+06</td>\n",
       "    </tr>\n",
       "    <tr>\n",
       "      <th>159996</th>\n",
       "      <td>99.720694</td>\n",
       "      <td>200.278968</td>\n",
       "      <td>50055.881792</td>\n",
       "      <td>1</td>\n",
       "      <td>9944.216821</td>\n",
       "      <td>40111.664971</td>\n",
       "      <td>9.916442e+05</td>\n",
       "      <td>8.033523e+06</td>\n",
       "    </tr>\n",
       "    <tr>\n",
       "      <th>159997</th>\n",
       "      <td>99.927517</td>\n",
       "      <td>200.740081</td>\n",
       "      <td>50282.088778</td>\n",
       "      <td>1</td>\n",
       "      <td>9985.508556</td>\n",
       "      <td>40296.580222</td>\n",
       "      <td>9.978271e+05</td>\n",
       "      <td>8.089139e+06</td>\n",
       "    </tr>\n",
       "    <tr>\n",
       "      <th>159998</th>\n",
       "      <td>100.119925</td>\n",
       "      <td>200.831178</td>\n",
       "      <td>50357.161540</td>\n",
       "      <td>1</td>\n",
       "      <td>10023.999387</td>\n",
       "      <td>40333.162153</td>\n",
       "      <td>1.003602e+06</td>\n",
       "      <td>8.100156e+06</td>\n",
       "    </tr>\n",
       "    <tr>\n",
       "      <th>159999</th>\n",
       "      <td>100.062230</td>\n",
       "      <td>200.797175</td>\n",
       "      <td>50331.955282</td>\n",
       "      <td>1</td>\n",
       "      <td>10012.449946</td>\n",
       "      <td>40319.505336</td>\n",
       "      <td>1.001868e+06</td>\n",
       "      <td>8.096043e+06</td>\n",
       "    </tr>\n",
       "  </tbody>\n",
       "</table>\n",
       "<p>160000 rows × 8 columns</p>\n",
       "</div>"
      ],
      "text/plain": [
       "                 0           1             2  v_1             4             5  \\\n",
       "0         0.931719   50.942832   2596.040230    1      0.868100   2595.172130   \n",
       "1         0.796997   50.312938   2532.026902    1      0.635205   2531.391697   \n",
       "2         1.115603   50.156194   2516.888332    1      1.244571   2515.643761   \n",
       "3         1.064629   50.774814   2579.215190    1      1.133435   2578.081755   \n",
       "4         1.796804   50.055668   2508.798424    1      3.228504   2505.569920   \n",
       "...            ...         ...           ...  ...           ...           ...   \n",
       "159995   99.500647  200.190256  49976.517321    1   9900.378766  40076.138555   \n",
       "159996   99.720694  200.278968  50055.881792    1   9944.216821  40111.664971   \n",
       "159997   99.927517  200.740081  50282.088778    1   9985.508556  40296.580222   \n",
       "159998  100.119925  200.831178  50357.161540    1  10023.999387  40333.162153   \n",
       "159999  100.062230  200.797175  50331.955282    1  10012.449946  40319.505336   \n",
       "\n",
       "                   6             7  \n",
       "0       8.088255e-01  1.322054e+05  \n",
       "1       5.062565e-01  1.273618e+05  \n",
       "2       1.388448e+00  1.261751e+05  \n",
       "3       1.206687e+00  1.309016e+05  \n",
       "4       5.800988e+00  1.254180e+05  \n",
       "...              ...           ...  \n",
       "159995  9.850941e+05  8.022852e+06  \n",
       "159996  9.916442e+05  8.033523e+06  \n",
       "159997  9.978271e+05  8.089139e+06  \n",
       "159998  1.003602e+06  8.100156e+06  \n",
       "159999  1.001868e+06  8.096043e+06  \n",
       "\n",
       "[160000 rows x 8 columns]"
      ]
     },
     "execution_count": 353,
     "metadata": {},
     "output_type": "execute_result"
    }
   ],
   "source": [
    "data[4] = data[0] ** 2\n",
    "data[5] = data[1] ** 2\n",
    "data[6] = data[0] ** 3\n",
    "data[7] = data[1] ** 3\n",
    "data"
   ]
  },
  {
   "cell_type": "code",
   "execution_count": 354,
   "id": "ranging-prescription",
   "metadata": {},
   "outputs": [
    {
     "name": "stdout",
     "output_type": "stream",
     "text": [
      "(160000, 1)\n",
      "(160000, 7)\n"
     ]
    }
   ],
   "source": [
    "data = data.assign(v_1 = 1)\n",
    "y = data[[2]].to_numpy()\n",
    "X = data[['v_1',0,1,4,5,6,7]].to_numpy()\n",
    "print(y.shape)\n",
    "print(X.shape)"
   ]
  },
  {
   "cell_type": "code",
   "execution_count": 355,
   "id": "sweet-juice",
   "metadata": {},
   "outputs": [
    {
     "name": "stdout",
     "output_type": "stream",
     "text": [
      "(96000, 7)\n",
      "(32000, 7)\n",
      "(32000, 7)\n",
      "(96000, 1)\n",
      "(32000, 1)\n",
      "(32000, 1)\n"
     ]
    }
   ],
   "source": [
    "X_train, X_test, y_train, y_test = sklearn.model_selection.train_test_split(X, y, test_size=0.2, random_state=1)\n",
    "X_train, X_val, y_train, y_val = sklearn.model_selection.train_test_split(X_train, y_train, test_size=0.25, random_state=1)\n",
    "print(X_train.shape)\n",
    "print(X_test.shape)\n",
    "print(X_val.shape)\n",
    "print(y_train.shape)\n",
    "print(y_test.shape)\n",
    "print(y_val.shape)"
   ]
  },
  {
   "cell_type": "code",
   "execution_count": 356,
   "id": "tired-virgin",
   "metadata": {},
   "outputs": [],
   "source": [
    "def linear_cost(X, y, theta): \n",
    "    h = X @ theta\n",
    "    return ((y-h)**2).sum() / (2 * len(X))\n",
    "\n",
    "def linear_cost_gradient(X, y, theta): \n",
    "    h = X @ theta\n",
    "    return (X.T @ (h-y))/ len(X)"
   ]
  },
  {
   "cell_type": "code",
   "execution_count": 357,
   "id": "bridal-oasis",
   "metadata": {},
   "outputs": [],
   "source": [
    "m, n = X_train.shape"
   ]
  },
  {
   "cell_type": "code",
   "execution_count": 358,
   "id": "cellular-landing",
   "metadata": {},
   "outputs": [
    {
     "name": "stdout",
     "output_type": "stream",
     "text": [
      "(7, 1)\n"
     ]
    }
   ],
   "source": [
    "theta_0 = np.random.rand(n,1)\n",
    "print(theta_0.shape)"
   ]
  },
  {
   "cell_type": "code",
   "execution_count": 359,
   "id": "european-bible",
   "metadata": {},
   "outputs": [],
   "source": [
    "def gradient_descent(\n",
    "X,y,theta_0,linear_cost,linear_cost_gradient,\n",
    "    learning_rate = 0.00000000000000001, threshold = 0.0000000000001, max_iter=10000):\n",
    "    thetas = theta_0\n",
    "    iteration = 0 \n",
    "    costs = []\n",
    "    \n",
    "    while np.linalg.norm(linear_cost_gradient(X,y,thetas)) > threshold and iteration < max_iter:\n",
    "        iteration += 1 \n",
    "        thetas = thetas - (learning_rate * linear_cost_gradient(X,y,thetas))\n",
    "        costs.append(linear_cost(X,y,thetas))\n",
    "        \n",
    "    return thetas, costs"
   ]
  },
  {
   "cell_type": "code",
   "execution_count": 360,
   "id": "considered-shoulder",
   "metadata": {},
   "outputs": [],
   "source": [
    "thetas, costs = gradient_descent(X_train,y_train,theta_0,linear_cost,linear_cost_gradient)"
   ]
  },
  {
   "cell_type": "code",
   "execution_count": 361,
   "id": "listed-question",
   "metadata": {},
   "outputs": [
    {
     "data": {
      "text/plain": [
       "[<matplotlib.lines.Line2D at 0x28e45f7ec70>]"
      ]
     },
     "execution_count": 361,
     "metadata": {},
     "output_type": "execute_result"
    },
    {
     "data": {
      "image/png": "[encoded data removed]",
      "text/plain": [
       "<Figure size 432x288 with 1 Axes>"
      ]
     },
     "metadata": {
      "needs_background": "light"
     },
     "output_type": "display_data"
    }
   ],
   "source": [
    "plt.plot(costs)"
   ]
  },
  {
   "cell_type": "markdown",
   "id": "distributed-institute",
   "metadata": {},
   "source": [
    "### test"
   ]
  },
  {
   "cell_type": "code",
   "execution_count": 362,
   "id": "chinese-australian",
   "metadata": {},
   "outputs": [],
   "source": [
    "thetas, costs = gradient_descent(X_test,y_test,theta_0,linear_cost,linear_cost_gradient)"
   ]
  },
  {
   "cell_type": "code",
   "execution_count": 363,
   "id": "mighty-stevens",
   "metadata": {},
   "outputs": [
    {
     "data": {
      "text/plain": [
       "[<matplotlib.lines.Line2D at 0x28e47882670>]"
      ]
     },
     "execution_count": 363,
     "metadata": {},
     "output_type": "execute_result"
    },
    {
     "data": {
      "image/png": "[encoded data removed]",
      "text/plain": [
       "<Figure size 432x288 with 1 Axes>"
      ]
     },
     "metadata": {
      "needs_background": "light"
     },
     "output_type": "display_data"
    }
   ],
   "source": [
    "plt.plot(costs)"
   ]
  },
  {
   "cell_type": "markdown",
   "id": "stopped-coast",
   "metadata": {},
   "source": [
    "### validation"
   ]
  },
  {
   "cell_type": "code",
   "execution_count": 364,
   "id": "juvenile-membership",
   "metadata": {},
   "outputs": [],
   "source": [
    "thetas, costs = gradient_descent(X_val,y_val,theta_0,linear_cost,linear_cost_gradient)"
   ]
  },
  {
   "cell_type": "code",
   "execution_count": 365,
   "id": "binding-circular",
   "metadata": {},
   "outputs": [
    {
     "data": {
      "text/plain": [
       "[<matplotlib.lines.Line2D at 0x28e4a05d100>]"
      ]
     },
     "execution_count": 365,
     "metadata": {},
     "output_type": "execute_result"
    },
    {
     "data": {
      "image/png": "[encoded data removed]",
      "text/plain": [
       "<Figure size 432x288 with 1 Axes>"
      ]
     },
     "metadata": {
      "needs_background": "light"
     },
     "output_type": "display_data"
    }
   ],
   "source": [
    "plt.plot(costs)"
   ]
  },
  {
   "cell_type": "markdown",
   "id": "worth-representation",
   "metadata": {},
   "source": [
    "Como se observa en las gráficas, utilizando un polinomio grado 3 el modelo muestra un descenso más suavizado que en el grado 1, reflejando acercarse a la convergencia y en la parte final llegando a las 10,000 iteraciones casi parece alcanzar la convergencia.\n"
   ]
  },
  {
   "cell_type": "markdown",
   "id": "upset-carpet",
   "metadata": {
    "tags": []
   },
   "source": [
    "## Grado 4"
   ]
  },
  {
   "cell_type": "code",
   "execution_count": 366,
   "id": "brilliant-intention",
   "metadata": {},
   "outputs": [
    {
     "data": {
      "text/html": [
       "<div>\n",
       "<style scoped>\n",
       "    .dataframe tbody tr th:only-of-type {\n",
       "        vertical-align: middle;\n",
       "    }\n",
       "\n",
       "    .dataframe tbody tr th {\n",
       "        vertical-align: top;\n",
       "    }\n",
       "\n",
       "    .dataframe thead th {\n",
       "        text-align: right;\n",
       "    }\n",
       "</style>\n",
       "<table border=\"1\" class=\"dataframe\">\n",
       "  <thead>\n",
       "    <tr style=\"text-align: right;\">\n",
       "      <th></th>\n",
       "      <th>0</th>\n",
       "      <th>1</th>\n",
       "      <th>2</th>\n",
       "      <th>v_1</th>\n",
       "      <th>4</th>\n",
       "      <th>5</th>\n",
       "      <th>6</th>\n",
       "      <th>7</th>\n",
       "      <th>8</th>\n",
       "      <th>9</th>\n",
       "    </tr>\n",
       "  </thead>\n",
       "  <tbody>\n",
       "    <tr>\n",
       "      <th>0</th>\n",
       "      <td>0.931719</td>\n",
       "      <td>50.942832</td>\n",
       "      <td>2596.040230</td>\n",
       "      <td>1</td>\n",
       "      <td>0.868100</td>\n",
       "      <td>2595.172130</td>\n",
       "      <td>8.088255e-01</td>\n",
       "      <td>1.322054e+05</td>\n",
       "      <td>7.535981e-01</td>\n",
       "      <td>6.734918e+06</td>\n",
       "    </tr>\n",
       "    <tr>\n",
       "      <th>1</th>\n",
       "      <td>0.796997</td>\n",
       "      <td>50.312938</td>\n",
       "      <td>2532.026902</td>\n",
       "      <td>1</td>\n",
       "      <td>0.635205</td>\n",
       "      <td>2531.391697</td>\n",
       "      <td>5.062565e-01</td>\n",
       "      <td>1.273618e+05</td>\n",
       "      <td>4.034851e-01</td>\n",
       "      <td>6.407944e+06</td>\n",
       "    </tr>\n",
       "    <tr>\n",
       "      <th>2</th>\n",
       "      <td>1.115603</td>\n",
       "      <td>50.156194</td>\n",
       "      <td>2516.888332</td>\n",
       "      <td>1</td>\n",
       "      <td>1.244571</td>\n",
       "      <td>2515.643761</td>\n",
       "      <td>1.388448e+00</td>\n",
       "      <td>1.261751e+05</td>\n",
       "      <td>1.548957e+00</td>\n",
       "      <td>6.328464e+06</td>\n",
       "    </tr>\n",
       "    <tr>\n",
       "      <th>3</th>\n",
       "      <td>1.064629</td>\n",
       "      <td>50.774814</td>\n",
       "      <td>2579.215190</td>\n",
       "      <td>1</td>\n",
       "      <td>1.133435</td>\n",
       "      <td>2578.081755</td>\n",
       "      <td>1.206687e+00</td>\n",
       "      <td>1.309016e+05</td>\n",
       "      <td>1.284674e+00</td>\n",
       "      <td>6.646506e+06</td>\n",
       "    </tr>\n",
       "    <tr>\n",
       "      <th>4</th>\n",
       "      <td>1.796804</td>\n",
       "      <td>50.055668</td>\n",
       "      <td>2508.798424</td>\n",
       "      <td>1</td>\n",
       "      <td>3.228504</td>\n",
       "      <td>2505.569920</td>\n",
       "      <td>5.800988e+00</td>\n",
       "      <td>1.254180e+05</td>\n",
       "      <td>1.042324e+01</td>\n",
       "      <td>6.277881e+06</td>\n",
       "    </tr>\n",
       "    <tr>\n",
       "      <th>...</th>\n",
       "      <td>...</td>\n",
       "      <td>...</td>\n",
       "      <td>...</td>\n",
       "      <td>...</td>\n",
       "      <td>...</td>\n",
       "      <td>...</td>\n",
       "      <td>...</td>\n",
       "      <td>...</td>\n",
       "      <td>...</td>\n",
       "      <td>...</td>\n",
       "    </tr>\n",
       "    <tr>\n",
       "      <th>159995</th>\n",
       "      <td>99.500647</td>\n",
       "      <td>200.190256</td>\n",
       "      <td>49976.517321</td>\n",
       "      <td>1</td>\n",
       "      <td>9900.378766</td>\n",
       "      <td>40076.138555</td>\n",
       "      <td>9.850941e+05</td>\n",
       "      <td>8.022852e+06</td>\n",
       "      <td>9.801750e+07</td>\n",
       "      <td>1.606097e+09</td>\n",
       "    </tr>\n",
       "    <tr>\n",
       "      <th>159996</th>\n",
       "      <td>99.720694</td>\n",
       "      <td>200.278968</td>\n",
       "      <td>50055.881792</td>\n",
       "      <td>1</td>\n",
       "      <td>9944.216821</td>\n",
       "      <td>40111.664971</td>\n",
       "      <td>9.916442e+05</td>\n",
       "      <td>8.033523e+06</td>\n",
       "      <td>9.888745e+07</td>\n",
       "      <td>1.608946e+09</td>\n",
       "    </tr>\n",
       "    <tr>\n",
       "      <th>159997</th>\n",
       "      <td>99.927517</td>\n",
       "      <td>200.740081</td>\n",
       "      <td>50282.088778</td>\n",
       "      <td>1</td>\n",
       "      <td>9985.508556</td>\n",
       "      <td>40296.580222</td>\n",
       "      <td>9.978271e+05</td>\n",
       "      <td>8.089139e+06</td>\n",
       "      <td>9.971038e+07</td>\n",
       "      <td>1.623814e+09</td>\n",
       "    </tr>\n",
       "    <tr>\n",
       "      <th>159998</th>\n",
       "      <td>100.119925</td>\n",
       "      <td>200.831178</td>\n",
       "      <td>50357.161540</td>\n",
       "      <td>1</td>\n",
       "      <td>10023.999387</td>\n",
       "      <td>40333.162153</td>\n",
       "      <td>1.003602e+06</td>\n",
       "      <td>8.100156e+06</td>\n",
       "      <td>1.004806e+08</td>\n",
       "      <td>1.626764e+09</td>\n",
       "    </tr>\n",
       "    <tr>\n",
       "      <th>159999</th>\n",
       "      <td>100.062230</td>\n",
       "      <td>200.797175</td>\n",
       "      <td>50331.955282</td>\n",
       "      <td>1</td>\n",
       "      <td>10012.449946</td>\n",
       "      <td>40319.505336</td>\n",
       "      <td>1.001868e+06</td>\n",
       "      <td>8.096043e+06</td>\n",
       "      <td>1.002492e+08</td>\n",
       "      <td>1.625663e+09</td>\n",
       "    </tr>\n",
       "  </tbody>\n",
       "</table>\n",
       "<p>160000 rows × 10 columns</p>\n",
       "</div>"
      ],
      "text/plain": [
       "                 0           1             2  v_1             4             5  \\\n",
       "0         0.931719   50.942832   2596.040230    1      0.868100   2595.172130   \n",
       "1         0.796997   50.312938   2532.026902    1      0.635205   2531.391697   \n",
       "2         1.115603   50.156194   2516.888332    1      1.244571   2515.643761   \n",
       "3         1.064629   50.774814   2579.215190    1      1.133435   2578.081755   \n",
       "4         1.796804   50.055668   2508.798424    1      3.228504   2505.569920   \n",
       "...            ...         ...           ...  ...           ...           ...   \n",
       "159995   99.500647  200.190256  49976.517321    1   9900.378766  40076.138555   \n",
       "159996   99.720694  200.278968  50055.881792    1   9944.216821  40111.664971   \n",
       "159997   99.927517  200.740081  50282.088778    1   9985.508556  40296.580222   \n",
       "159998  100.119925  200.831178  50357.161540    1  10023.999387  40333.162153   \n",
       "159999  100.062230  200.797175  50331.955282    1  10012.449946  40319.505336   \n",
       "\n",
       "                   6             7             8             9  \n",
       "0       8.088255e-01  1.322054e+05  7.535981e-01  6.734918e+06  \n",
       "1       5.062565e-01  1.273618e+05  4.034851e-01  6.407944e+06  \n",
       "2       1.388448e+00  1.261751e+05  1.548957e+00  6.328464e+06  \n",
       "3       1.206687e+00  1.309016e+05  1.284674e+00  6.646506e+06  \n",
       "4       5.800988e+00  1.254180e+05  1.042324e+01  6.277881e+06  \n",
       "...              ...           ...           ...           ...  \n",
       "159995  9.850941e+05  8.022852e+06  9.801750e+07  1.606097e+09  \n",
       "159996  9.916442e+05  8.033523e+06  9.888745e+07  1.608946e+09  \n",
       "159997  9.978271e+05  8.089139e+06  9.971038e+07  1.623814e+09  \n",
       "159998  1.003602e+06  8.100156e+06  1.004806e+08  1.626764e+09  \n",
       "159999  1.001868e+06  8.096043e+06  1.002492e+08  1.625663e+09  \n",
       "\n",
       "[160000 rows x 10 columns]"
      ]
     },
     "execution_count": 366,
     "metadata": {},
     "output_type": "execute_result"
    }
   ],
   "source": [
    "data[4] = data[0] ** 2\n",
    "data[5] = data[1] ** 2\n",
    "data[6] = data[0] ** 3\n",
    "data[7] = data[1] ** 3\n",
    "data[8] = data[0] ** 4\n",
    "data[9] = data[1] ** 4\n",
    "data"
   ]
  },
  {
   "cell_type": "code",
   "execution_count": 367,
   "id": "stunning-reason",
   "metadata": {},
   "outputs": [
    {
     "name": "stdout",
     "output_type": "stream",
     "text": [
      "(160000, 1)\n",
      "(160000, 9)\n"
     ]
    }
   ],
   "source": [
    "data = data.assign(v_1 = 1)\n",
    "y = data[[2]].to_numpy()\n",
    "X = data[['v_1',0,1,4,5,6,7,8,9]].to_numpy()\n",
    "print(y.shape)\n",
    "print(X.shape)"
   ]
  },
  {
   "cell_type": "code",
   "execution_count": 368,
   "id": "central-activity",
   "metadata": {},
   "outputs": [
    {
     "name": "stdout",
     "output_type": "stream",
     "text": [
      "(96000, 9)\n",
      "(32000, 9)\n",
      "(32000, 9)\n",
      "(96000, 1)\n",
      "(32000, 1)\n",
      "(32000, 1)\n"
     ]
    }
   ],
   "source": [
    "X_train, X_test, y_train, y_test = sklearn.model_selection.train_test_split(X, y, test_size=0.2, random_state=1)\n",
    "X_train, X_val, y_train, y_val = sklearn.model_selection.train_test_split(X_train, y_train, test_size=0.25, random_state=1)\n",
    "print(X_train.shape)\n",
    "print(X_test.shape)\n",
    "print(X_val.shape)\n",
    "print(y_train.shape)\n",
    "print(y_test.shape)\n",
    "print(y_val.shape)"
   ]
  },
  {
   "cell_type": "code",
   "execution_count": 369,
   "id": "artistic-kingston",
   "metadata": {},
   "outputs": [],
   "source": [
    "def linear_cost(X, y, theta): \n",
    "    h = X @ theta\n",
    "    return ((y-h)**2).sum() / (2 * len(X))\n",
    "\n",
    "def linear_cost_gradient(X, y, theta): \n",
    "    h = X @ theta\n",
    "    return (X.T @ (h-y))/ len(X)"
   ]
  },
  {
   "cell_type": "code",
   "execution_count": 370,
   "id": "gentle-knowing",
   "metadata": {},
   "outputs": [],
   "source": [
    "m, n = X_train.shape"
   ]
  },
  {
   "cell_type": "code",
   "execution_count": 371,
   "id": "special-concentration",
   "metadata": {},
   "outputs": [
    {
     "name": "stdout",
     "output_type": "stream",
     "text": [
      "(9, 1)\n"
     ]
    }
   ],
   "source": [
    "theta_0 = np.random.rand(n,1)\n",
    "print(theta_0.shape)"
   ]
  },
  {
   "cell_type": "code",
   "execution_count": 372,
   "id": "altered-return",
   "metadata": {},
   "outputs": [],
   "source": [
    "def gradient_descent(\n",
    "X,y,theta_0,linear_cost,linear_cost_gradient,\n",
    "    learning_rate = 0.000000000000000000001, threshold = 0.0000000000001, max_iter=10000):\n",
    "    thetas = theta_0\n",
    "    iteration = 0 \n",
    "    costs = []\n",
    "    \n",
    "    while np.linalg.norm(linear_cost_gradient(X,y,thetas)) > threshold and iteration < max_iter:\n",
    "        iteration += 1 \n",
    "        thetas = thetas - (learning_rate * linear_cost_gradient(X,y,thetas))\n",
    "        costs.append(linear_cost(X,y,thetas))\n",
    "        \n",
    "    return thetas, costs"
   ]
  },
  {
   "cell_type": "code",
   "execution_count": 373,
   "id": "separate-surveillance",
   "metadata": {},
   "outputs": [],
   "source": [
    "thetas, costs = gradient_descent(X_train,y_train,theta_0,linear_cost,linear_cost_gradient)"
   ]
  },
  {
   "cell_type": "code",
   "execution_count": 374,
   "id": "canadian-friendly",
   "metadata": {},
   "outputs": [
    {
     "data": {
      "text/plain": [
       "[<matplotlib.lines.Line2D at 0x28e4a0dd7c0>]"
      ]
     },
     "execution_count": 374,
     "metadata": {},
     "output_type": "execute_result"
    },
    {
     "data": {
      "image/png": "[encoded data removed]",
      "text/plain": [
       "<Figure size 432x288 with 1 Axes>"
      ]
     },
     "metadata": {
      "needs_background": "light"
     },
     "output_type": "display_data"
    }
   ],
   "source": [
    "plt.plot(costs)"
   ]
  },
  {
   "cell_type": "markdown",
   "id": "expensive-thanksgiving",
   "metadata": {},
   "source": [
    "### test"
   ]
  },
  {
   "cell_type": "code",
   "execution_count": 375,
   "id": "duplicate-management",
   "metadata": {},
   "outputs": [],
   "source": [
    "thetas, costs = gradient_descent(X_test,y_test,theta_0,linear_cost,linear_cost_gradient)"
   ]
  },
  {
   "cell_type": "code",
   "execution_count": 376,
   "id": "outstanding-sister",
   "metadata": {},
   "outputs": [
    {
     "data": {
      "text/plain": [
       "[<matplotlib.lines.Line2D at 0x28e4a11b5b0>]"
      ]
     },
     "execution_count": 376,
     "metadata": {},
     "output_type": "execute_result"
    },
    {
     "data": {
      "image/png": "[encoded data removed]",
      "text/plain": [
       "<Figure size 432x288 with 1 Axes>"
      ]
     },
     "metadata": {
      "needs_background": "light"
     },
     "output_type": "display_data"
    }
   ],
   "source": [
    "plt.plot(costs)"
   ]
  },
  {
   "cell_type": "markdown",
   "id": "bearing-filename",
   "metadata": {},
   "source": [
    "### validation"
   ]
  },
  {
   "cell_type": "code",
   "execution_count": 377,
   "id": "cultural-agriculture",
   "metadata": {},
   "outputs": [],
   "source": [
    "thetas, costs = gradient_descent(X_val,y_val,theta_0,linear_cost,linear_cost_gradient)"
   ]
  },
  {
   "cell_type": "code",
   "execution_count": 378,
   "id": "boolean-baseline",
   "metadata": {},
   "outputs": [
    {
     "data": {
      "text/plain": [
       "[<matplotlib.lines.Line2D at 0x28e4a0acb20>]"
      ]
     },
     "execution_count": 378,
     "metadata": {},
     "output_type": "execute_result"
    },
    {
     "data": {
      "image/png": "[encoded data removed]",
      "text/plain": [
       "<Figure size 432x288 with 1 Axes>"
      ]
     },
     "metadata": {
      "needs_background": "light"
     },
     "output_type": "display_data"
    }
   ],
   "source": [
    "plt.plot(costs)"
   ]
  },
  {
   "cell_type": "markdown",
   "id": "everyday-receiver",
   "metadata": {},
   "source": [
    "Utilizando un polinomio grado 4 el modelo muestra un descenso aun más suavizado que con el grado 3 en este caso podemos ver que al rededor de las 6000 iteraciones se alcanza la convergencia, ya que el costo disminuye ya muy levemente.\n"
   ]
  },
  {
   "cell_type": "markdown",
   "id": "jewish-serbia",
   "metadata": {
    "tags": []
   },
   "source": [
    "## Grado 5"
   ]
  },
  {
   "cell_type": "code",
   "execution_count": 379,
   "id": "mobile-atlas",
   "metadata": {},
   "outputs": [
    {
     "data": {
      "text/html": [
       "<div>\n",
       "<style scoped>\n",
       "    .dataframe tbody tr th:only-of-type {\n",
       "        vertical-align: middle;\n",
       "    }\n",
       "\n",
       "    .dataframe tbody tr th {\n",
       "        vertical-align: top;\n",
       "    }\n",
       "\n",
       "    .dataframe thead th {\n",
       "        text-align: right;\n",
       "    }\n",
       "</style>\n",
       "<table border=\"1\" class=\"dataframe\">\n",
       "  <thead>\n",
       "    <tr style=\"text-align: right;\">\n",
       "      <th></th>\n",
       "      <th>0</th>\n",
       "      <th>1</th>\n",
       "      <th>2</th>\n",
       "      <th>v_1</th>\n",
       "      <th>4</th>\n",
       "      <th>5</th>\n",
       "      <th>6</th>\n",
       "      <th>7</th>\n",
       "      <th>8</th>\n",
       "      <th>9</th>\n",
       "      <th>10</th>\n",
       "      <th>11</th>\n",
       "    </tr>\n",
       "  </thead>\n",
       "  <tbody>\n",
       "    <tr>\n",
       "      <th>0</th>\n",
       "      <td>0.931719</td>\n",
       "      <td>50.942832</td>\n",
       "      <td>2596.040230</td>\n",
       "      <td>1</td>\n",
       "      <td>0.868100</td>\n",
       "      <td>2595.172130</td>\n",
       "      <td>8.088255e-01</td>\n",
       "      <td>1.322054e+05</td>\n",
       "      <td>7.535981e-01</td>\n",
       "      <td>6.734918e+06</td>\n",
       "      <td>7.021416e-01</td>\n",
       "      <td>3.430958e+08</td>\n",
       "    </tr>\n",
       "    <tr>\n",
       "      <th>1</th>\n",
       "      <td>0.796997</td>\n",
       "      <td>50.312938</td>\n",
       "      <td>2532.026902</td>\n",
       "      <td>1</td>\n",
       "      <td>0.635205</td>\n",
       "      <td>2531.391697</td>\n",
       "      <td>5.062565e-01</td>\n",
       "      <td>1.273618e+05</td>\n",
       "      <td>4.034851e-01</td>\n",
       "      <td>6.407944e+06</td>\n",
       "      <td>3.215766e-01</td>\n",
       "      <td>3.224025e+08</td>\n",
       "    </tr>\n",
       "    <tr>\n",
       "      <th>2</th>\n",
       "      <td>1.115603</td>\n",
       "      <td>50.156194</td>\n",
       "      <td>2516.888332</td>\n",
       "      <td>1</td>\n",
       "      <td>1.244571</td>\n",
       "      <td>2515.643761</td>\n",
       "      <td>1.388448e+00</td>\n",
       "      <td>1.261751e+05</td>\n",
       "      <td>1.548957e+00</td>\n",
       "      <td>6.328464e+06</td>\n",
       "      <td>1.728022e+00</td>\n",
       "      <td>3.174116e+08</td>\n",
       "    </tr>\n",
       "    <tr>\n",
       "      <th>3</th>\n",
       "      <td>1.064629</td>\n",
       "      <td>50.774814</td>\n",
       "      <td>2579.215190</td>\n",
       "      <td>1</td>\n",
       "      <td>1.133435</td>\n",
       "      <td>2578.081755</td>\n",
       "      <td>1.206687e+00</td>\n",
       "      <td>1.309016e+05</td>\n",
       "      <td>1.284674e+00</td>\n",
       "      <td>6.646506e+06</td>\n",
       "      <td>1.367701e+00</td>\n",
       "      <td>3.374751e+08</td>\n",
       "    </tr>\n",
       "    <tr>\n",
       "      <th>4</th>\n",
       "      <td>1.796804</td>\n",
       "      <td>50.055668</td>\n",
       "      <td>2508.798424</td>\n",
       "      <td>1</td>\n",
       "      <td>3.228504</td>\n",
       "      <td>2505.569920</td>\n",
       "      <td>5.800988e+00</td>\n",
       "      <td>1.254180e+05</td>\n",
       "      <td>1.042324e+01</td>\n",
       "      <td>6.277881e+06</td>\n",
       "      <td>1.872851e+01</td>\n",
       "      <td>3.142435e+08</td>\n",
       "    </tr>\n",
       "    <tr>\n",
       "      <th>...</th>\n",
       "      <td>...</td>\n",
       "      <td>...</td>\n",
       "      <td>...</td>\n",
       "      <td>...</td>\n",
       "      <td>...</td>\n",
       "      <td>...</td>\n",
       "      <td>...</td>\n",
       "      <td>...</td>\n",
       "      <td>...</td>\n",
       "      <td>...</td>\n",
       "      <td>...</td>\n",
       "      <td>...</td>\n",
       "    </tr>\n",
       "    <tr>\n",
       "      <th>159995</th>\n",
       "      <td>99.500647</td>\n",
       "      <td>200.190256</td>\n",
       "      <td>49976.517321</td>\n",
       "      <td>1</td>\n",
       "      <td>9900.378766</td>\n",
       "      <td>40076.138555</td>\n",
       "      <td>9.850941e+05</td>\n",
       "      <td>8.022852e+06</td>\n",
       "      <td>9.801750e+07</td>\n",
       "      <td>1.606097e+09</td>\n",
       "      <td>9.752805e+09</td>\n",
       "      <td>3.215249e+11</td>\n",
       "    </tr>\n",
       "    <tr>\n",
       "      <th>159996</th>\n",
       "      <td>99.720694</td>\n",
       "      <td>200.278968</td>\n",
       "      <td>50055.881792</td>\n",
       "      <td>1</td>\n",
       "      <td>9944.216821</td>\n",
       "      <td>40111.664971</td>\n",
       "      <td>9.916442e+05</td>\n",
       "      <td>8.033523e+06</td>\n",
       "      <td>9.888745e+07</td>\n",
       "      <td>1.608946e+09</td>\n",
       "      <td>9.861125e+09</td>\n",
       "      <td>3.222380e+11</td>\n",
       "    </tr>\n",
       "    <tr>\n",
       "      <th>159997</th>\n",
       "      <td>99.927517</td>\n",
       "      <td>200.740081</td>\n",
       "      <td>50282.088778</td>\n",
       "      <td>1</td>\n",
       "      <td>9985.508556</td>\n",
       "      <td>40296.580222</td>\n",
       "      <td>9.978271e+05</td>\n",
       "      <td>8.089139e+06</td>\n",
       "      <td>9.971038e+07</td>\n",
       "      <td>1.623814e+09</td>\n",
       "      <td>9.963811e+09</td>\n",
       "      <td>3.259646e+11</td>\n",
       "    </tr>\n",
       "    <tr>\n",
       "      <th>159998</th>\n",
       "      <td>100.119925</td>\n",
       "      <td>200.831178</td>\n",
       "      <td>50357.161540</td>\n",
       "      <td>1</td>\n",
       "      <td>10023.999387</td>\n",
       "      <td>40333.162153</td>\n",
       "      <td>1.003602e+06</td>\n",
       "      <td>8.100156e+06</td>\n",
       "      <td>1.004806e+08</td>\n",
       "      <td>1.626764e+09</td>\n",
       "      <td>1.006011e+10</td>\n",
       "      <td>3.267049e+11</td>\n",
       "    </tr>\n",
       "    <tr>\n",
       "      <th>159999</th>\n",
       "      <td>100.062230</td>\n",
       "      <td>200.797175</td>\n",
       "      <td>50331.955282</td>\n",
       "      <td>1</td>\n",
       "      <td>10012.449946</td>\n",
       "      <td>40319.505336</td>\n",
       "      <td>1.001868e+06</td>\n",
       "      <td>8.096043e+06</td>\n",
       "      <td>1.002492e+08</td>\n",
       "      <td>1.625663e+09</td>\n",
       "      <td>1.003115e+10</td>\n",
       "      <td>3.264284e+11</td>\n",
       "    </tr>\n",
       "  </tbody>\n",
       "</table>\n",
       "<p>160000 rows × 12 columns</p>\n",
       "</div>"
      ],
      "text/plain": [
       "                 0           1             2  v_1             4             5  \\\n",
       "0         0.931719   50.942832   2596.040230    1      0.868100   2595.172130   \n",
       "1         0.796997   50.312938   2532.026902    1      0.635205   2531.391697   \n",
       "2         1.115603   50.156194   2516.888332    1      1.244571   2515.643761   \n",
       "3         1.064629   50.774814   2579.215190    1      1.133435   2578.081755   \n",
       "4         1.796804   50.055668   2508.798424    1      3.228504   2505.569920   \n",
       "...            ...         ...           ...  ...           ...           ...   \n",
       "159995   99.500647  200.190256  49976.517321    1   9900.378766  40076.138555   \n",
       "159996   99.720694  200.278968  50055.881792    1   9944.216821  40111.664971   \n",
       "159997   99.927517  200.740081  50282.088778    1   9985.508556  40296.580222   \n",
       "159998  100.119925  200.831178  50357.161540    1  10023.999387  40333.162153   \n",
       "159999  100.062230  200.797175  50331.955282    1  10012.449946  40319.505336   \n",
       "\n",
       "                   6             7             8             9            10  \\\n",
       "0       8.088255e-01  1.322054e+05  7.535981e-01  6.734918e+06  7.021416e-01   \n",
       "1       5.062565e-01  1.273618e+05  4.034851e-01  6.407944e+06  3.215766e-01   \n",
       "2       1.388448e+00  1.261751e+05  1.548957e+00  6.328464e+06  1.728022e+00   \n",
       "3       1.206687e+00  1.309016e+05  1.284674e+00  6.646506e+06  1.367701e+00   \n",
       "4       5.800988e+00  1.254180e+05  1.042324e+01  6.277881e+06  1.872851e+01   \n",
       "...              ...           ...           ...           ...           ...   \n",
       "159995  9.850941e+05  8.022852e+06  9.801750e+07  1.606097e+09  9.752805e+09   \n",
       "159996  9.916442e+05  8.033523e+06  9.888745e+07  1.608946e+09  9.861125e+09   \n",
       "159997  9.978271e+05  8.089139e+06  9.971038e+07  1.623814e+09  9.963811e+09   \n",
       "159998  1.003602e+06  8.100156e+06  1.004806e+08  1.626764e+09  1.006011e+10   \n",
       "159999  1.001868e+06  8.096043e+06  1.002492e+08  1.625663e+09  1.003115e+10   \n",
       "\n",
       "                  11  \n",
       "0       3.430958e+08  \n",
       "1       3.224025e+08  \n",
       "2       3.174116e+08  \n",
       "3       3.374751e+08  \n",
       "4       3.142435e+08  \n",
       "...              ...  \n",
       "159995  3.215249e+11  \n",
       "159996  3.222380e+11  \n",
       "159997  3.259646e+11  \n",
       "159998  3.267049e+11  \n",
       "159999  3.264284e+11  \n",
       "\n",
       "[160000 rows x 12 columns]"
      ]
     },
     "execution_count": 379,
     "metadata": {},
     "output_type": "execute_result"
    }
   ],
   "source": [
    "data[4] = data[0] ** 2\n",
    "data[5] = data[1] ** 2\n",
    "data[6] = data[0] ** 3\n",
    "data[7] = data[1] ** 3\n",
    "data[8] = data[0] ** 4\n",
    "data[9] = data[1] ** 4\n",
    "data[10] = data[0] ** 5\n",
    "data[11] = data[1] ** 5\n",
    "data"
   ]
  },
  {
   "cell_type": "code",
   "execution_count": 380,
   "id": "surface-soviet",
   "metadata": {},
   "outputs": [
    {
     "name": "stdout",
     "output_type": "stream",
     "text": [
      "(160000, 1)\n",
      "(160000, 11)\n"
     ]
    }
   ],
   "source": [
    "data = data.assign(v_1 = 1)\n",
    "y = data[[2]].to_numpy()\n",
    "X = data[['v_1',0,1,4,5,6,7,8,9,10,11]].to_numpy()\n",
    "print(y.shape)\n",
    "print(X.shape)"
   ]
  },
  {
   "cell_type": "code",
   "execution_count": 381,
   "id": "charitable-senior",
   "metadata": {},
   "outputs": [
    {
     "name": "stdout",
     "output_type": "stream",
     "text": [
      "(96000, 11)\n",
      "(32000, 11)\n",
      "(32000, 11)\n",
      "(96000, 1)\n",
      "(32000, 1)\n",
      "(32000, 1)\n"
     ]
    }
   ],
   "source": [
    "X_train, X_test, y_train, y_test = sklearn.model_selection.train_test_split(X, y, test_size=0.2, random_state=1)\n",
    "X_train, X_val, y_train, y_val = sklearn.model_selection.train_test_split(X_train, y_train, test_size=0.25, random_state=1)\n",
    "print(X_train.shape)\n",
    "print(X_test.shape)\n",
    "print(X_val.shape)\n",
    "print(y_train.shape)\n",
    "print(y_test.shape)\n",
    "print(y_val.shape)"
   ]
  },
  {
   "cell_type": "code",
   "execution_count": 382,
   "id": "matched-input",
   "metadata": {},
   "outputs": [],
   "source": [
    "def linear_cost(X, y, theta): \n",
    "    h = X @ theta\n",
    "    return ((y-h)**2).sum() / (2 * len(X))\n",
    "\n",
    "def linear_cost_gradient(X, y, theta): \n",
    "    h = X @ theta\n",
    "    return (X.T @ (h-y))/ len(X)"
   ]
  },
  {
   "cell_type": "code",
   "execution_count": 383,
   "id": "wrong-burning",
   "metadata": {},
   "outputs": [],
   "source": [
    "m, n = X_train.shape"
   ]
  },
  {
   "cell_type": "code",
   "execution_count": 384,
   "id": "senior-textbook",
   "metadata": {},
   "outputs": [
    {
     "name": "stdout",
     "output_type": "stream",
     "text": [
      "(11, 1)\n"
     ]
    }
   ],
   "source": [
    "theta_0 = np.random.rand(n,1)\n",
    "print(theta_0.shape)"
   ]
  },
  {
   "cell_type": "code",
   "execution_count": 385,
   "id": "false-community",
   "metadata": {},
   "outputs": [],
   "source": [
    "def gradient_descent(\n",
    "X,y,theta_0,linear_cost,linear_cost_gradient,\n",
    "    learning_rate = 0.00000000000000000000000001, threshold = 0.0000000000001, max_iter=10000):\n",
    "    thetas = theta_0\n",
    "    iteration = 0 \n",
    "    costs = []\n",
    "    \n",
    "    while np.linalg.norm(linear_cost_gradient(X,y,thetas)) > threshold and iteration < max_iter:\n",
    "        iteration += 1 \n",
    "        thetas = thetas - (learning_rate * linear_cost_gradient(X,y,thetas))\n",
    "        costs.append(linear_cost(X,y,thetas))\n",
    "        \n",
    "    return thetas, costs"
   ]
  },
  {
   "cell_type": "code",
   "execution_count": 386,
   "id": "exposed-conditioning",
   "metadata": {},
   "outputs": [],
   "source": [
    "thetas, costs = gradient_descent(X_train,y_train,theta_0,linear_cost,linear_cost_gradient)"
   ]
  },
  {
   "cell_type": "code",
   "execution_count": 387,
   "id": "silver-enlargement",
   "metadata": {},
   "outputs": [
    {
     "data": {
      "text/plain": [
       "[<matplotlib.lines.Line2D at 0x28e4a2deeb0>]"
      ]
     },
     "execution_count": 387,
     "metadata": {},
     "output_type": "execute_result"
    },
    {
     "data": {
      "image/png": "[encoded data removed]",
      "text/plain": [
       "<Figure size 432x288 with 1 Axes>"
      ]
     },
     "metadata": {
      "needs_background": "light"
     },
     "output_type": "display_data"
    }
   ],
   "source": [
    "plt.plot(costs)"
   ]
  },
  {
   "cell_type": "markdown",
   "id": "alone-regular",
   "metadata": {},
   "source": [
    "### test"
   ]
  },
  {
   "cell_type": "code",
   "execution_count": 388,
   "id": "considered-kelly",
   "metadata": {},
   "outputs": [],
   "source": [
    "thetas, costs = gradient_descent(X_test,y_test,theta_0,linear_cost,linear_cost_gradient)"
   ]
  },
  {
   "cell_type": "code",
   "execution_count": 389,
   "id": "cosmetic-level",
   "metadata": {},
   "outputs": [
    {
     "data": {
      "text/plain": [
       "[<matplotlib.lines.Line2D at 0x28e4a910100>]"
      ]
     },
     "execution_count": 389,
     "metadata": {},
     "output_type": "execute_result"
    },
    {
     "data": {
      "image/png": "[encoded data removed]",
      "text/plain": [
       "<Figure size 432x288 with 1 Axes>"
      ]
     },
     "metadata": {
      "needs_background": "light"
     },
     "output_type": "display_data"
    }
   ],
   "source": [
    "plt.plot(costs)"
   ]
  },
  {
   "cell_type": "markdown",
   "id": "hundred-farming",
   "metadata": {},
   "source": [
    "### validation"
   ]
  },
  {
   "cell_type": "code",
   "execution_count": 390,
   "id": "subsequent-worship",
   "metadata": {},
   "outputs": [],
   "source": [
    "thetas, costs = gradient_descent(X_val,y_val,theta_0,linear_cost,linear_cost_gradient)"
   ]
  },
  {
   "cell_type": "code",
   "execution_count": 391,
   "id": "laughing-baking",
   "metadata": {},
   "outputs": [
    {
     "data": {
      "text/plain": [
       "[<matplotlib.lines.Line2D at 0x28e4bd12f70>]"
      ]
     },
     "execution_count": 391,
     "metadata": {},
     "output_type": "execute_result"
    },
    {
     "data": {
      "image/png": "[encoded data removed]",
      "text/plain": [
       "<Figure size 432x288 with 1 Axes>"
      ]
     },
     "metadata": {
      "needs_background": "light"
     },
     "output_type": "display_data"
    }
   ],
   "source": [
    "plt.plot(costs)"
   ]
  },
  {
   "cell_type": "markdown",
   "id": "grave-paragraph",
   "metadata": {},
   "source": [
    "Utilizando un polinomio grado 5 el modelo muestra un descenso menos suavizado que con el grado 4 en este caso podemos ver que con las 10,000 iteraciones casi se alcanza la convergencia, pero el costo sigue mostrando un descenso.\n"
   ]
  },
  {
   "cell_type": "markdown",
   "id": "prime-syndrome",
   "metadata": {},
   "source": [
    "# Conclusión"
   ]
  },
  {
   "cell_type": "markdown",
   "id": "front-chicken",
   "metadata": {},
   "source": [
    "Finalmente se decidió que el modelo con mejor desempeño es el modelo de polinomio grado 4, ya que es el que alcanza completamente la convergencia dentro de las 10,000 iteraciones, incluso antes, alrededor de las 6,000. Adicionalmente se decidio trabajar con el lambda predeterminado debido a que los modelos presentaron un rendimiento estable tanto con los datos de test como los de cross validation. "
   ]
  }
 ],
 "metadata": {
  "kernelspec": {
   "display_name": "Python 3",
   "language": "python",
   "name": "python3"
  },
  "language_info": {
   "codemirror_mode": {
    "name": "ipython",
    "version": 3
   },
   "file_extension": ".py",
   "mimetype": "text/x-python",
   "name": "python",
   "nbconvert_exporter": "python",
   "pygments_lexer": "ipython3",
   "version": "3.9.1"
  }
 },
 "nbformat": 4,
 "nbformat_minor": 5
}
